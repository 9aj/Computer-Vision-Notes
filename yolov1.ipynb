{
  "nbformat": 4,
  "nbformat_minor": 0,
  "metadata": {
    "colab": {
      "name": "yolov1.ipynb",
      "provenance": [],
      "authorship_tag": "ABX9TyMrepPjbGAGkRwJxTUstTEB"
    },
    "kernelspec": {
      "name": "python3",
      "display_name": "Python 3"
    },
    "language_info": {
      "name": "python"
    }
  },
  "cells": [
    {
      "cell_type": "code",
      "metadata": {
        "colab": {
          "base_uri": "https://localhost:8080/"
        },
        "id": "uD6LP72j4-0J",
        "outputId": "b0fc9290-0766-42a7-b5f5-1b8b55a699e9"
      },
      "source": [
        "# imports\n",
        "\n",
        "import tensorflow as tf\n",
        "import tensorflow.keras as K\n",
        "from tensorflow.keras.layers import InputLayer, Conv2D, Activation, MaxPooling2D, Dense, Flatten, BatchNormalization\n",
        "import cv2\n",
        "\n",
        "print(tf.__version__)"
      ],
      "execution_count": 16,
      "outputs": [
        {
          "output_type": "stream",
          "name": "stdout",
          "text": [
            "2.7.0\n"
          ]
        }
      ]
    },
    {
      "cell_type": "markdown",
      "metadata": {
        "id": "gvcI-MKW5P1R"
      },
      "source": [
        "Darknetv1 Model"
      ]
    },
    {
      "cell_type": "code",
      "metadata": {
        "id": "YlganUgM5SSM"
      },
      "source": [
        "class YOLOv1(K.models.Sequential):\n",
        "  def __init__(self):\n",
        "    super(YOLOv1, self).__init__()\n",
        "    self.inp_xy = 448\n",
        "    self.inp_colour_channels = 3\n",
        "\n",
        "\n",
        "  def leaky_relu_activation(alpha):\n",
        "    return lambda x: maximum(0.1 * x, x)\n",
        "\n",
        "  def build_darknet(self):\n",
        "    # Input Tensor (448,448,3)\n",
        "    self.add(InputLayer(input_shape = (self.inp_xy,self.inp_xy,self.inp_colour_channels)))\n",
        "    \n",
        "    # Conv Layers\n",
        "    self.add(Conv2D(filters=64, kernel_size= (7, 7), strides=(2,2), padding = 'same'))\n",
        "    self.add(Activation(activation=K.layers.LeakyReLU(0.1)))\n",
        "    self.add(MaxPooling2D(pool_size=(2,2), strides=(2,2), padding='same'))\n",
        "\n",
        "    self.add(Conv2D(filters=192, kernel_size= (3, 3), padding = 'same'))\n",
        "    self.add(Activation(activation=K.layers.LeakyReLU(0.1)))\n",
        "    self.add(MaxPooling2D(pool_size=(2,2), strides=(2,2), padding='same'))\n",
        "\n",
        "    self.add(Conv2D(filters=128, kernel_size= (1, 1), padding = 'same'))\n",
        "    self.add(Activation(activation=K.layers.LeakyReLU(0.1)))\n",
        "    self.add(Conv2D(filters=256, kernel_size= (3, 3), padding = 'same'))\n",
        "    self.add(Activation(activation=K.layers.LeakyReLU(0.1)))\n",
        "    self.add(Conv2D(filters=256, kernel_size= (1, 1), padding = 'same'))\n",
        "    self.add(Activation(activation=K.layers.LeakyReLU(0.1)))\n",
        "    self.add(Conv2D(filters=512, kernel_size= (3, 3), padding = 'same'))\n",
        "    self.add(Activation(activation=K.layers.LeakyReLU(0.1)))\n",
        "    self.add(MaxPooling2D(pool_size=(2,2), strides=(2,2), padding='same'))\n",
        "\n",
        "    # Alternating (3x3) & (1x1) Kernel Conv\n",
        "    for i in range(0,4):\n",
        "      self.add(Conv2D(filters=256, kernel_size= (1, 1), padding = 'same'))\n",
        "      self.add(Activation(activation=K.layers.LeakyReLU(0.1)))\n",
        "      self.add(Conv2D(filters=512, kernel_size= (3, 3), padding = 'same'))\n",
        "      self.add(Activation(activation=K.layers.LeakyReLU(0.1)))\n",
        "    self.add(Conv2D(filters=512, kernel_size= (1, 1), padding = 'same'))\n",
        "    self.add(Activation(activation=K.layers.LeakyReLU(0.1)))\n",
        "    self.add(Conv2D(filters=1024, kernel_size= (3, 3), padding = 'same'))\n",
        "    self.add(Activation(activation=K.layers.LeakyReLU(0.1)))\n",
        "    self.add(MaxPooling2D(pool_size=(2,2), strides=(2,2), padding='same'))\n",
        "\n",
        "    for i in range(0,2):\n",
        "      self.add(Conv2D(filters=512, kernel_size= (1, 1), padding = 'same'))\n",
        "      self.add(Activation(activation=K.layers.LeakyReLU(0.1)))\n",
        "      self.add(Conv2D(filters=1024, kernel_size= (3, 3), padding = 'same'))\n",
        "      self.add(Activation(activation=K.layers.LeakyReLU(0.1)))\n",
        "    \n",
        "    self.add(Conv2D(filters=1024, kernel_size= (3, 3), padding = 'same'))\n",
        "    self.add(Activation(activation=K.layers.LeakyReLU(0.1)))\n",
        "    self.add(Conv2D(filters=1024, kernel_size= (3, 3), strides=(2,2) padding = 'same'))\n",
        "    self.add(Activation(activation=K.layers.LeakyReLU(0.1)))\n",
        "\n",
        "    # Fully Connected Layer\n",
        "    self.add(Flatten())\n",
        "    self.add(Dense(512))\n",
        "    self.add(Dense(1024))\n",
        "    self.add(Dropout(0.5))\n",
        "    self.add()\n",
        "\n",
        "\n",
        "    "
      ],
      "execution_count": 65,
      "outputs": []
    },
    {
      "cell_type": "code",
      "metadata": {
        "colab": {
          "base_uri": "https://localhost:8080/"
        },
        "id": "zKRPO7mB7-KH",
        "outputId": "9642938c-ef91-4204-997d-2483372c3c0a"
      },
      "source": [
        "# Create TF Sequential\n",
        "model = YOLOv1()\n",
        "\n",
        "# Create Darknet Arch\n",
        "model.build_darknet()\n",
        "\n",
        "# Display Model\n",
        "model.summary()"
      ],
      "execution_count": 64,
      "outputs": [
        {
          "output_type": "stream",
          "name": "stdout",
          "text": [
            "xd\n",
            "xd\n",
            "xd\n",
            "xd\n",
            "Model: \"yol_ov1_27\"\n",
            "_________________________________________________________________\n",
            " Layer (type)                Output Shape              Param #   \n",
            "=================================================================\n",
            " conv2d_24 (Conv2D)          (None, 224, 224, 64)      9472      \n",
            "                                                                 \n",
            " activation_18 (Activation)  (None, 224, 224, 64)      0         \n",
            "                                                                 \n",
            " max_pooling2d_11 (MaxPoolin  (None, 112, 112, 64)     0         \n",
            " g2D)                                                            \n",
            "                                                                 \n",
            " conv2d_25 (Conv2D)          (None, 112, 112, 192)     110784    \n",
            "                                                                 \n",
            " activation_19 (Activation)  (None, 112, 112, 192)     0         \n",
            "                                                                 \n",
            " max_pooling2d_12 (MaxPoolin  (None, 56, 56, 192)      0         \n",
            " g2D)                                                            \n",
            "                                                                 \n",
            " conv2d_26 (Conv2D)          (None, 56, 56, 128)       24704     \n",
            "                                                                 \n",
            " activation_20 (Activation)  (None, 56, 56, 128)       0         \n",
            "                                                                 \n",
            " conv2d_27 (Conv2D)          (None, 56, 56, 256)       295168    \n",
            "                                                                 \n",
            " activation_21 (Activation)  (None, 56, 56, 256)       0         \n",
            "                                                                 \n",
            " conv2d_28 (Conv2D)          (None, 56, 56, 256)       65792     \n",
            "                                                                 \n",
            " activation_22 (Activation)  (None, 56, 56, 256)       0         \n",
            "                                                                 \n",
            " conv2d_29 (Conv2D)          (None, 56, 56, 512)       1180160   \n",
            "                                                                 \n",
            " activation_23 (Activation)  (None, 56, 56, 512)       0         \n",
            "                                                                 \n",
            " max_pooling2d_13 (MaxPoolin  (None, 28, 28, 512)      0         \n",
            " g2D)                                                            \n",
            "                                                                 \n",
            "=================================================================\n",
            "Total params: 1,686,080\n",
            "Trainable params: 1,686,080\n",
            "Non-trainable params: 0\n",
            "_________________________________________________________________\n"
          ]
        }
      ]
    }
  ]
}