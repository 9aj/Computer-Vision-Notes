{
  "nbformat": 4,
  "nbformat_minor": 0,
  "metadata": {
    "colab": {
      "name": "yolov1.ipynb",
      "provenance": [],
      "collapsed_sections": [],
      "authorship_tag": "ABX9TyOIOuyhjao8DPwMmpPXkM3F",
      "include_colab_link": true
    },
    "kernelspec": {
      "name": "python3",
      "display_name": "Python 3"
    },
    "language_info": {
      "name": "python"
    }
  },
  "cells": [
    {
      "cell_type": "markdown",
      "metadata": {
        "id": "view-in-github",
        "colab_type": "text"
      },
      "source": [
        "<a href=\"https://colab.research.google.com/github/9aj/Computer-Vision-Notes/blob/main/yolov1.ipynb\" target=\"_parent\"><img src=\"https://colab.research.google.com/assets/colab-badge.svg\" alt=\"Open In Colab\"/></a>"
      ]
    },
    {
      "cell_type": "code",
      "metadata": {
        "colab": {
          "base_uri": "https://localhost:8080/"
        },
        "id": "uD6LP72j4-0J",
        "outputId": "af64669a-4fc1-43a1-aed2-db45d0f37e69"
      },
      "source": [
        "# imports\n",
        "import tensorflow as tf\n",
        "import tensorflow.keras as K\n",
        "from tensorflow.keras.layers import InputLayer, Conv2D, Activation, MaxPooling2D, Dense, Flatten, Reshape, Dropout, BatchNormalization\n",
        "import cv2\n",
        "\n",
        "print(tf.__version__)\n",
        "print(cv2.__version__)"
      ],
      "execution_count": 17,
      "outputs": [
        {
          "output_type": "stream",
          "name": "stdout",
          "text": [
            "2.7.0\n",
            "4.1.2\n"
          ]
        }
      ]
    },
    {
      "cell_type": "code",
      "metadata": {
        "id": "i4U2wVVaWiZJ"
      },
      "source": [
        "# datset download\n",
        "!wget http://host.robots.ox.ac.uk/pascal/VOC/voc2007/VOCtrainval_06-Nov-2007.tar\n",
        "!wget http://host.robots.ox.ac.uk/pascal/VOC/voc2007/VOCtest_06-Nov-2007.tar"
      ],
      "execution_count": null,
      "outputs": []
    },
    {
      "cell_type": "code",
      "metadata": {
        "id": "TgKaJ7jiXWcX"
      },
      "source": [
        "# extract dataset\n",
        "!tar xvf VOCtrainval_06-Nov-2007.tar\n",
        "!tar xvf VOCtest_06-Nov-2007.tar\n",
        "!rm VOCtrainval_06-Nov-2007.tar\n",
        "!rm VOCtest_06-Nov-2007.tar"
      ],
      "execution_count": null,
      "outputs": []
    },
    {
      "cell_type": "markdown",
      "metadata": {
        "id": "gvcI-MKW5P1R"
      },
      "source": [
        "Darknetv1 Model"
      ]
    },
    {
      "cell_type": "code",
      "metadata": {
        "id": "YlganUgM5SSM"
      },
      "source": [
        "class FCLayer(tf.keras.layers.Layer):\n",
        "  def __init__(self, shape=(7,7,11)):\n",
        "    super(FCLayer, self).__init__()\n",
        "    self.target_shape = shape\n",
        "\n",
        "  # serialisation not req, no cfg \n",
        "\n",
        "  def call(self, inputs):\n",
        "    s = [self.target_shape[0], self.target_shape[1]]\n",
        "    C = 1\n",
        "    B = 2\n",
        "\n",
        "    # [x,y,w,h,c,x,y,w,h,c,p] (7,7,11) tnsr\n",
        "\n",
        "    class_probability = K.backend.reshape(\n",
        "        inputs[:, :(s[0]*s[0]*C)],\n",
        "        (K.backend.shape(inputs)[0],) + tuple([s[0], s[1], C])\n",
        "    )\n",
        "\n",
        "    confidence = K.backend.reshape(\n",
        "        inputs[:, (s[0]*s[0]*C):((s[0]*s[0]*C) + s[0]*s[0]*B)],\n",
        "        (K.backend.shape(inputs)[0],) + tuple([s[0], s[1], B])\n",
        "    )\n",
        "\n",
        "    bb = K.backend.reshape(\n",
        "        inputs[:, ((s[0]*s[0]*C) + s[0]*s[0]*B):],\n",
        "        (K.backend.shape(inputs)[0],) + tuple([s[0], s[1], B*4])\n",
        "    )\n",
        "\n",
        "    return K.backend.concatenate([class_probability, confidence, bb])\n",
        "\n",
        "class YOLOv1(tf.keras.models.Sequential):\n",
        "  def __init__(self):\n",
        "    super(YOLOv1, self).__init__()\n",
        "    self.inp_xy = 448\n",
        "    self.inp_colour_channels = 3\n",
        "\n",
        "  def leaky_relu_activation(alpha):\n",
        "    return lambda x: maximum(0.1 * x, x)\n",
        "\n",
        "  def build_darknet(self):\n",
        "    # Input Tensor (448,448,3)\n",
        "    self.add(InputLayer(input_shape = (self.inp_xy,self.inp_xy,self.inp_colour_channels)))\n",
        "    \n",
        "    # Conv Layers\n",
        "    self.add(Conv2D(filters=64, kernel_size= (7, 7), strides=(2,2), padding = 'same'))\n",
        "    self.add(Activation(activation=K.layers.LeakyReLU(0.1)))\n",
        "    self.add(MaxPooling2D(pool_size=(2,2), strides=(2,2), padding='same'))\n",
        "\n",
        "    self.add(Conv2D(filters=192, kernel_size= (3, 3), padding = 'same'))\n",
        "    self.add(Activation(activation=K.layers.LeakyReLU(0.1)))\n",
        "    self.add(MaxPooling2D(pool_size=(2,2), strides=(2,2), padding='same'))\n",
        "\n",
        "    self.add(Conv2D(filters=128, kernel_size= (1, 1), padding = 'same'))\n",
        "    self.add(Activation(activation=K.layers.LeakyReLU(0.1)))\n",
        "    self.add(Conv2D(filters=256, kernel_size= (3, 3), padding = 'same'))\n",
        "    self.add(Activation(activation=K.layers.LeakyReLU(0.1)))\n",
        "    self.add(Conv2D(filters=256, kernel_size= (1, 1), padding = 'same'))\n",
        "    self.add(Activation(activation=K.layers.LeakyReLU(0.1)))\n",
        "    self.add(Conv2D(filters=512, kernel_size= (3, 3), padding = 'same'))\n",
        "    self.add(Activation(activation=K.layers.LeakyReLU(0.1)))\n",
        "    self.add(MaxPooling2D(pool_size=(2,2), strides=(2,2), padding='same'))\n",
        "\n",
        "    # Alternating (3x3) & (1x1) Kernel Conv\n",
        "    for i in range(0,4):\n",
        "      self.add(Conv2D(filters=256, kernel_size= (1, 1), padding = 'same'))\n",
        "      self.add(Activation(activation=K.layers.LeakyReLU(0.1)))\n",
        "      self.add(Conv2D(filters=512, kernel_size= (3, 3), padding = 'same'))\n",
        "      self.add(Activation(activation=K.layers.LeakyReLU(0.1)))\n",
        "    self.add(Conv2D(filters=512, kernel_size= (1, 1), padding = 'same'))\n",
        "    self.add(Activation(activation=K.layers.LeakyReLU(0.1)))\n",
        "    self.add(Conv2D(filters=1024, kernel_size= (3, 3), padding = 'same'))\n",
        "    self.add(Activation(activation=K.layers.LeakyReLU(0.1)))\n",
        "    self.add(MaxPooling2D(pool_size=(2,2), strides=(2,2), padding='same'))\n",
        "\n",
        "    for i in range(0,2):\n",
        "      self.add(Conv2D(filters=512, kernel_size= (1, 1), padding = 'same'))\n",
        "      self.add(Activation(activation=K.layers.LeakyReLU(0.1)))\n",
        "      self.add(Conv2D(filters=1024, kernel_size= (3, 3), padding = 'same'))\n",
        "      self.add(Activation(activation=K.layers.LeakyReLU(0.1)))\n",
        "    \n",
        "    self.add(Conv2D(filters=1024, kernel_size= (3, 3), padding = 'same'))\n",
        "    self.add(Activation(activation=K.layers.LeakyReLU(0.1)))\n",
        "    self.add(Conv2D(filters=1024, kernel_size= (3, 3), strides=(2,2), padding = 'same'))\n",
        "    self.add(Activation(activation=K.layers.LeakyReLU(0.1)))\n",
        "\n",
        "    # Fully Connected Layer\n",
        "    self.add(Flatten())\n",
        "    self.add(Dense(512))\n",
        "    self.add(Dense(1024))\n",
        "    self.add(Dropout(0.5))\n",
        "    self.add(Activation(activation=K.layers.LeakyReLU(0.1)))\n",
        "    self.add(FCLayer())\n",
        "            \n",
        "\n",
        "\n",
        "    "
      ],
      "execution_count": 20,
      "outputs": []
    },
    {
      "cell_type": "code",
      "metadata": {
        "id": "zKRPO7mB7-KH",
        "colab": {
          "base_uri": "https://localhost:8080/"
        },
        "outputId": "4b482723-12ea-4b6d-c0aa-76ddfad55f11"
      },
      "source": [
        "# Create TF Sequential\n",
        "model = YOLOv1()\n",
        "\n",
        "# Create Darknet Arch\n",
        "model.build_darknet()\n",
        "\n",
        "# Display Model\n",
        "model.summary()"
      ],
      "execution_count": 22,
      "outputs": [
        {
          "output_type": "stream",
          "name": "stdout",
          "text": [
            "Model: \"yol_ov1_6\"\n",
            "_________________________________________________________________\n",
            " Layer (type)                Output Shape              Param #   \n",
            "=================================================================\n",
            " conv2d_90 (Conv2D)          (None, 224, 224, 64)      9472      \n",
            "                                                                 \n",
            " activation_91 (Activation)  (None, 224, 224, 64)      0         \n",
            "                                                                 \n",
            " max_pooling2d_16 (MaxPoolin  (None, 112, 112, 64)     0         \n",
            " g2D)                                                            \n",
            "                                                                 \n",
            " conv2d_91 (Conv2D)          (None, 112, 112, 192)     110784    \n",
            "                                                                 \n",
            " activation_92 (Activation)  (None, 112, 112, 192)     0         \n",
            "                                                                 \n",
            " max_pooling2d_17 (MaxPoolin  (None, 56, 56, 192)      0         \n",
            " g2D)                                                            \n",
            "                                                                 \n",
            " conv2d_92 (Conv2D)          (None, 56, 56, 128)       24704     \n",
            "                                                                 \n",
            " activation_93 (Activation)  (None, 56, 56, 128)       0         \n",
            "                                                                 \n",
            " conv2d_93 (Conv2D)          (None, 56, 56, 256)       295168    \n",
            "                                                                 \n",
            " activation_94 (Activation)  (None, 56, 56, 256)       0         \n",
            "                                                                 \n",
            " conv2d_94 (Conv2D)          (None, 56, 56, 256)       65792     \n",
            "                                                                 \n",
            " activation_95 (Activation)  (None, 56, 56, 256)       0         \n",
            "                                                                 \n",
            " conv2d_95 (Conv2D)          (None, 56, 56, 512)       1180160   \n",
            "                                                                 \n",
            " activation_96 (Activation)  (None, 56, 56, 512)       0         \n",
            "                                                                 \n",
            " max_pooling2d_18 (MaxPoolin  (None, 28, 28, 512)      0         \n",
            " g2D)                                                            \n",
            "                                                                 \n",
            " conv2d_96 (Conv2D)          (None, 28, 28, 256)       131328    \n",
            "                                                                 \n",
            " activation_97 (Activation)  (None, 28, 28, 256)       0         \n",
            "                                                                 \n",
            " conv2d_97 (Conv2D)          (None, 28, 28, 512)       1180160   \n",
            "                                                                 \n",
            " activation_98 (Activation)  (None, 28, 28, 512)       0         \n",
            "                                                                 \n",
            " conv2d_98 (Conv2D)          (None, 28, 28, 256)       131328    \n",
            "                                                                 \n",
            " activation_99 (Activation)  (None, 28, 28, 256)       0         \n",
            "                                                                 \n",
            " conv2d_99 (Conv2D)          (None, 28, 28, 512)       1180160   \n",
            "                                                                 \n",
            " activation_100 (Activation)  (None, 28, 28, 512)      0         \n",
            "                                                                 \n",
            " conv2d_100 (Conv2D)         (None, 28, 28, 256)       131328    \n",
            "                                                                 \n",
            " activation_101 (Activation)  (None, 28, 28, 256)      0         \n",
            "                                                                 \n",
            " conv2d_101 (Conv2D)         (None, 28, 28, 512)       1180160   \n",
            "                                                                 \n",
            " activation_102 (Activation)  (None, 28, 28, 512)      0         \n",
            "                                                                 \n",
            " conv2d_102 (Conv2D)         (None, 28, 28, 256)       131328    \n",
            "                                                                 \n",
            " activation_103 (Activation)  (None, 28, 28, 256)      0         \n",
            "                                                                 \n",
            " conv2d_103 (Conv2D)         (None, 28, 28, 512)       1180160   \n",
            "                                                                 \n",
            " activation_104 (Activation)  (None, 28, 28, 512)      0         \n",
            "                                                                 \n",
            " conv2d_104 (Conv2D)         (None, 28, 28, 512)       262656    \n",
            "                                                                 \n",
            " activation_105 (Activation)  (None, 28, 28, 512)      0         \n",
            "                                                                 \n",
            " conv2d_105 (Conv2D)         (None, 28, 28, 1024)      4719616   \n",
            "                                                                 \n",
            " activation_106 (Activation)  (None, 28, 28, 1024)     0         \n",
            "                                                                 \n",
            " max_pooling2d_19 (MaxPoolin  (None, 14, 14, 1024)     0         \n",
            " g2D)                                                            \n",
            "                                                                 \n",
            " conv2d_106 (Conv2D)         (None, 14, 14, 512)       524800    \n",
            "                                                                 \n",
            " activation_107 (Activation)  (None, 14, 14, 512)      0         \n",
            "                                                                 \n",
            " conv2d_107 (Conv2D)         (None, 14, 14, 1024)      4719616   \n",
            "                                                                 \n",
            " activation_108 (Activation)  (None, 14, 14, 1024)     0         \n",
            "                                                                 \n",
            " conv2d_108 (Conv2D)         (None, 14, 14, 512)       524800    \n",
            "                                                                 \n",
            " activation_109 (Activation)  (None, 14, 14, 512)      0         \n",
            "                                                                 \n",
            " conv2d_109 (Conv2D)         (None, 14, 14, 1024)      4719616   \n",
            "                                                                 \n",
            " activation_110 (Activation)  (None, 14, 14, 1024)     0         \n",
            "                                                                 \n",
            " conv2d_110 (Conv2D)         (None, 14, 14, 1024)      9438208   \n",
            "                                                                 \n",
            " activation_111 (Activation)  (None, 14, 14, 1024)     0         \n",
            "                                                                 \n",
            " conv2d_111 (Conv2D)         (None, 7, 7, 1024)        9438208   \n",
            "                                                                 \n",
            " activation_112 (Activation)  (None, 7, 7, 1024)       0         \n",
            "                                                                 \n",
            " flatten_4 (Flatten)         (None, 50176)             0         \n",
            "                                                                 \n",
            " dense_8 (Dense)             (None, 512)               25690624  \n",
            "                                                                 \n",
            " dense_9 (Dense)             (None, 1024)              525312    \n",
            "                                                                 \n",
            " dropout_4 (Dropout)         (None, 1024)              0         \n",
            "                                                                 \n",
            " activation_113 (Activation)  (None, 1024)             0         \n",
            "                                                                 \n",
            " fc_layer_3 (FCLayer)        (None, 7, 7, 11)          0         \n",
            "                                                                 \n",
            "=================================================================\n",
            "Total params: 67,495,488\n",
            "Trainable params: 67,495,488\n",
            "Non-trainable params: 0\n",
            "_________________________________________________________________\n",
            "/bin/bash: -c: line 0: syntax error near unexpected token `>'\n",
            "/bin/bash: -c: line 0: `model.summary() > yolov1.cfg'\n"
          ]
        }
      ]
    }
  ]
}